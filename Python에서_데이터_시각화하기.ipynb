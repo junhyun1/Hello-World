{
  "nbformat": 4,
  "nbformat_minor": 0,
  "metadata": {
    "colab": {
      "name": "Python에서 데이터 시각화하기",
      "version": "0.3.2",
      "provenance": [],
      "toc_visible": true,
      "include_colab_link": true
    },
    "kernelspec": {
      "name": "python3",
      "display_name": "Python 3"
    }
  },
  "cells": [
    {
      "cell_type": "markdown",
      "metadata": {
        "id": "view-in-github",
        "colab_type": "text"
      },
      "source": [
        "<a href=\"https://colab.research.google.com/github/junhyun1/Hello-World/blob/master/Python%EC%97%90%EC%84%9C_%EB%8D%B0%EC%9D%B4%ED%84%B0_%EC%8B%9C%EA%B0%81%ED%99%94%ED%95%98%EA%B8%B0.ipynb\" target=\"_parent\"><img src=\"https://colab.research.google.com/assets/colab-badge.svg\" alt=\"Open In Colab\"/></a>"
      ]
    },
    {
      "metadata": {
        "id": "gddByhpXcJX6",
        "colab_type": "text"
      },
      "cell_type": "markdown",
      "source": [
        "# 라이브러리\n",
        "\n",
        "*   matplotlib\n",
        "*   seaborn\n",
        "*   plotnine\n",
        "*   folium\n",
        "*   plot.ly\n",
        "*   pyecharts\n"
      ]
    },
    {
      "metadata": {
        "id": "4Xff9l6phE2L",
        "colab_type": "text"
      },
      "cell_type": "markdown",
      "source": [
        "## 설치 \n"
      ]
    },
    {
      "metadata": {
        "id": "Eoi0Dg9ugz6U",
        "colab_type": "code",
        "colab": {}
      },
      "cell_type": "code",
      "source": [
        "pip3 install matplotlib"
      ],
      "execution_count": 0,
      "outputs": []
    },
    {
      "metadata": {
        "id": "lAWpOdZuhMae",
        "colab_type": "code",
        "colab": {}
      },
      "cell_type": "code",
      "source": [
        "import pandas as pd\n",
        "import numpy as np\n",
        "import matplotlib\n",
        "import matplotlib.pyplot as plt\n",
        "\n",
        "print(\"Matplotlib version\", matplotlib.__version__)\n",
        "%matplotlib inline"
      ],
      "execution_count": 0,
      "outputs": []
    },
    {
      "metadata": {
        "id": "McvxPrHhhRDM",
        "colab_type": "text"
      },
      "cell_type": "markdown",
      "source": [
        "## Figure의 구성요소"
      ]
    },
    {
      "metadata": {
        "id": "SZI_J3O4fHWP",
        "colab_type": "text"
      },
      "cell_type": "markdown",
      "source": [
        "# Matplotlib\n",
        "\n",
        "---\n",
        "\n",
        "\n",
        "\n",
        "*   pandas의 Dataframe을 시각화할 때 내부적으로 사용\n",
        "*   설치\n",
        "\n",
        "\n",
        "![대체 텍스트](https://www.dropbox.com/s/oqc1qxb12m8e9hi/%EC%8A%A4%ED%81%AC%EB%A6%B0%EC%83%B7%202018-08-24%2017.03.16.png?raw=1)\n",
        "\n",
        "\n"
      ]
    },
    {
      "metadata": {
        "id": "ZvXM4rkkhLwN",
        "colab_type": "code",
        "colab": {}
      },
      "cell_type": "code",
      "source": [
        ""
      ],
      "execution_count": 0,
      "outputs": []
    }
  ]
}